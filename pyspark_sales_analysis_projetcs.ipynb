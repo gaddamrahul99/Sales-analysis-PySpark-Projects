{
 "cells": [
  {
   "cell_type": "code",
   "execution_count": 0,
   "metadata": {
    "application/vnd.databricks.v1+cell": {
     "cellMetadata": {},
     "inputWidgets": {},
     "nuid": "1aa0c5af-408b-485a-92ff-54e2033f75d2",
     "showTitle": false,
     "tableResultSettingsMap": {},
     "title": ""
    }
   },
   "outputs": [],
   "source": [
    " /FileStore/tables/sales_csv.txt\n",
    "  /FileStore/tables/menu_csv.txt\n",
    "\n",
    "\n",
    "  "
   ]
  },
  {
   "cell_type": "markdown",
   "metadata": {
    "application/vnd.databricks.v1+cell": {
     "cellMetadata": {},
     "inputWidgets": {},
     "nuid": "a269c1e6-4f02-41f1-85ff-42612d981a49",
     "showTitle": false,
     "tableResultSettingsMap": {},
     "title": ""
    }
   },
   "source": [
    "Creating Sales DataFrame"
   ]
  },
  {
   "cell_type": "code",
   "execution_count": 0,
   "metadata": {
    "application/vnd.databricks.v1+cell": {
     "cellMetadata": {
      "byteLimit": 2048000,
      "rowLimit": 10000
     },
     "inputWidgets": {},
     "nuid": "3663f1ed-b62a-4299-a2ab-639fe79d5016",
     "showTitle": false,
     "tableResultSettingsMap": {},
     "title": ""
    }
   },
   "outputs": [],
   "source": [
    "#imporign lab\n",
    "\n",
    "from pyspark.sql.types import StructField, StringType, IntegerType, decimal, StructType, DateType\n",
    "\n",
    "#now creating and define schemas -\n",
    "\n",
    "schema = StructType([\n",
    "         StructField(\"product_id\",IntegerType(), True),\n",
    "         StructField(\"customer_id\", StringType(), True),\n",
    "         StructField(\"order_date\", DateType(), True),\n",
    "         StructField(\"location\",IntegerType(), True),\n",
    "         StructField(\"source_order\", IntegerType(), True)\n",
    "])\n",
    "\n",
    "\n"
   ]
  },
  {
   "cell_type": "code",
   "execution_count": 0,
   "metadata": {
    "application/vnd.databricks.v1+cell": {
     "cellMetadata": {
      "byteLimit": 2048000,
      "rowLimit": 10000
     },
     "inputWidgets": {},
     "nuid": "6f042911-bb8d-4cca-8df9-7924016363a9",
     "showTitle": true,
     "tableResultSettingsMap": {},
     "title": "reading the dataframe"
    }
   },
   "outputs": [
    {
     "output_type": "stream",
     "name": "stdout",
     "output_type": "stream",
     "text": [
      "+----------+-----------+----------+--------+------------+\n|product_id|customer_id|order_date|location|source_order|\n+----------+-----------+----------+--------+------------+\n|         1|          A|2023-01-01|    null|        null|\n|         2|          A|2022-01-01|    null|        null|\n|         2|          A|2023-01-07|    null|        null|\n|         3|          A|2023-01-10|    null|        null|\n|         3|          A|2022-01-11|    null|        null|\n|         3|          A|2023-01-11|    null|        null|\n|         2|          B|2022-02-01|    null|        null|\n|         2|          B|2023-01-02|    null|        null|\n|         1|          B|2023-01-04|    null|        null|\n|         1|          B|2023-02-11|    null|        null|\n|         3|          B|2023-01-16|    null|        null|\n|         3|          B|2022-02-01|    null|        null|\n|         3|          C|2023-01-01|    null|        null|\n|         1|          C|2023-01-01|    null|        null|\n|         6|          C|2022-01-07|    null|        null|\n|         3|          D|2023-02-16|    null|        null|\n|         5|          D|2022-02-01|    null|        null|\n|         3|          E|2023-02-01|    null|        null|\n|         4|          E|2023-02-01|    null|        null|\n|         4|          E|2023-02-07|    null|        null|\n+----------+-----------+----------+--------+------------+\nonly showing top 20 rows\n\n"
     ]
    },
    {
     "output_type": "display_data",
     "data": {
      "text/html": [
       "<style scoped>\n",
       "  .table-result-container {\n",
       "    max-height: 300px;\n",
       "    overflow: auto;\n",
       "  }\n",
       "  table, th, td {\n",
       "    border: 1px solid black;\n",
       "    border-collapse: collapse;\n",
       "  }\n",
       "  th, td {\n",
       "    padding: 5px;\n",
       "  }\n",
       "  th {\n",
       "    text-align: left;\n",
       "  }\n",
       "</style><div class='table-result-container'><table class='table-result'><thead style='background-color: white'><tr><th>product_id</th><th>customer_id</th><th>order_date</th><th>location</th><th>source_order</th></tr></thead><tbody><tr><td>1</td><td>A</td><td>2023-01-01</td><td>null</td><td>null</td></tr><tr><td>2</td><td>A</td><td>2022-01-01</td><td>null</td><td>null</td></tr><tr><td>2</td><td>A</td><td>2023-01-07</td><td>null</td><td>null</td></tr><tr><td>3</td><td>A</td><td>2023-01-10</td><td>null</td><td>null</td></tr><tr><td>3</td><td>A</td><td>2022-01-11</td><td>null</td><td>null</td></tr><tr><td>3</td><td>A</td><td>2023-01-11</td><td>null</td><td>null</td></tr><tr><td>2</td><td>B</td><td>2022-02-01</td><td>null</td><td>null</td></tr><tr><td>2</td><td>B</td><td>2023-01-02</td><td>null</td><td>null</td></tr><tr><td>1</td><td>B</td><td>2023-01-04</td><td>null</td><td>null</td></tr><tr><td>1</td><td>B</td><td>2023-02-11</td><td>null</td><td>null</td></tr><tr><td>3</td><td>B</td><td>2023-01-16</td><td>null</td><td>null</td></tr><tr><td>3</td><td>B</td><td>2022-02-01</td><td>null</td><td>null</td></tr><tr><td>3</td><td>C</td><td>2023-01-01</td><td>null</td><td>null</td></tr><tr><td>1</td><td>C</td><td>2023-01-01</td><td>null</td><td>null</td></tr><tr><td>6</td><td>C</td><td>2022-01-07</td><td>null</td><td>null</td></tr><tr><td>3</td><td>D</td><td>2023-02-16</td><td>null</td><td>null</td></tr><tr><td>5</td><td>D</td><td>2022-02-01</td><td>null</td><td>null</td></tr><tr><td>3</td><td>E</td><td>2023-02-01</td><td>null</td><td>null</td></tr><tr><td>4</td><td>E</td><td>2023-02-01</td><td>null</td><td>null</td></tr><tr><td>4</td><td>E</td><td>2023-02-07</td><td>null</td><td>null</td></tr><tr><td>2</td><td>A</td><td>2022-01-01</td><td>null</td><td>null</td></tr><tr><td>2</td><td>A</td><td>2023-01-07</td><td>null</td><td>null</td></tr><tr><td>3</td><td>A</td><td>2023-01-10</td><td>null</td><td>null</td></tr><tr><td>3</td><td>A</td><td>2022-01-11</td><td>null</td><td>null</td></tr><tr><td>3</td><td>A</td><td>2023-01-11</td><td>null</td><td>null</td></tr><tr><td>2</td><td>B</td><td>2022-03-01</td><td>null</td><td>null</td></tr><tr><td>2</td><td>B</td><td>2023-01-02</td><td>null</td><td>null</td></tr><tr><td>1</td><td>B</td><td>2023-01-04</td><td>null</td><td>null</td></tr><tr><td>1</td><td>B</td><td>2023-03-11</td><td>null</td><td>null</td></tr><tr><td>3</td><td>B</td><td>2023-01-16</td><td>null</td><td>null</td></tr><tr><td>3</td><td>B</td><td>2023-03-01</td><td>null</td><td>null</td></tr><tr><td>3</td><td>C</td><td>2023-01-01</td><td>null</td><td>null</td></tr><tr><td>1</td><td>C</td><td>2023-01-01</td><td>null</td><td>null</td></tr><tr><td>6</td><td>C</td><td>2023-01-07</td><td>null</td><td>null</td></tr><tr><td>3</td><td>D</td><td>2022-03-16</td><td>null</td><td>null</td></tr><tr><td>5</td><td>D</td><td>2023-03-01</td><td>null</td><td>null</td></tr><tr><td>3</td><td>E</td><td>2023-03-01</td><td>null</td><td>null</td></tr><tr><td>4</td><td>E</td><td>2022-03-01</td><td>null</td><td>null</td></tr><tr><td>4</td><td>E</td><td>2023-03-07</td><td>null</td><td>null</td></tr><tr><td>1</td><td>A</td><td>2023-05-05</td><td>null</td><td>null</td></tr><tr><td>2</td><td>A</td><td>2022-05-05</td><td>null</td><td>null</td></tr><tr><td>2</td><td>A</td><td>2023-05-07</td><td>null</td><td>null</td></tr><tr><td>3</td><td>A</td><td>2023-05-10</td><td>null</td><td>null</td></tr><tr><td>3</td><td>A</td><td>2022-05-11</td><td>null</td><td>null</td></tr><tr><td>3</td><td>A</td><td>2023-05-11</td><td>null</td><td>null</td></tr><tr><td>2</td><td>B</td><td>2022-02-05</td><td>null</td><td>null</td></tr><tr><td>2</td><td>B</td><td>2023-05-02</td><td>null</td><td>null</td></tr><tr><td>1</td><td>B</td><td>2023-05-04</td><td>null</td><td>null</td></tr><tr><td>1</td><td>B</td><td>2023-02-11</td><td>null</td><td>null</td></tr><tr><td>3</td><td>B</td><td>2023-05-16</td><td>null</td><td>null</td></tr><tr><td>3</td><td>B</td><td>2022-02-05</td><td>null</td><td>null</td></tr><tr><td>3</td><td>C</td><td>2023-05-05</td><td>null</td><td>null</td></tr><tr><td>1</td><td>C</td><td>2023-05-05</td><td>null</td><td>null</td></tr><tr><td>6</td><td>C</td><td>2022-05-07</td><td>null</td><td>null</td></tr><tr><td>3</td><td>D</td><td>2023-02-16</td><td>null</td><td>null</td></tr><tr><td>5</td><td>D</td><td>2022-02-05</td><td>null</td><td>null</td></tr><tr><td>3</td><td>E</td><td>2023-02-05</td><td>null</td><td>null</td></tr><tr><td>4</td><td>E</td><td>2023-02-05</td><td>null</td><td>null</td></tr><tr><td>4</td><td>E</td><td>2023-02-07</td><td>null</td><td>null</td></tr><tr><td>2</td><td>A</td><td>2022-05-05</td><td>null</td><td>null</td></tr><tr><td>2</td><td>A</td><td>2023-05-07</td><td>null</td><td>null</td></tr><tr><td>3</td><td>A</td><td>2023-05-10</td><td>null</td><td>null</td></tr><tr><td>3</td><td>A</td><td>2022-05-11</td><td>null</td><td>null</td></tr><tr><td>3</td><td>A</td><td>2023-05-11</td><td>null</td><td>null</td></tr><tr><td>2</td><td>B</td><td>2022-07-05</td><td>null</td><td>null</td></tr><tr><td>2</td><td>B</td><td>2023-05-02</td><td>null</td><td>null</td></tr><tr><td>1</td><td>B</td><td>2023-05-04</td><td>null</td><td>null</td></tr><tr><td>1</td><td>B</td><td>2023-07-11</td><td>null</td><td>null</td></tr><tr><td>3</td><td>B</td><td>2023-05-16</td><td>null</td><td>null</td></tr><tr><td>3</td><td>B</td><td>2023-07-05</td><td>null</td><td>null</td></tr><tr><td>3</td><td>C</td><td>2023-05-05</td><td>null</td><td>null</td></tr><tr><td>1</td><td>C</td><td>2023-05-05</td><td>null</td><td>null</td></tr><tr><td>6</td><td>C</td><td>2023-05-07</td><td>null</td><td>null</td></tr><tr><td>3</td><td>D</td><td>2022-07-16</td><td>null</td><td>null</td></tr><tr><td>5</td><td>D</td><td>2023-07-05</td><td>null</td><td>null</td></tr><tr><td>3</td><td>E</td><td>2023-07-05</td><td>null</td><td>null</td></tr><tr><td>4</td><td>E</td><td>2022-07-05</td><td>null</td><td>null</td></tr><tr><td>4</td><td>E</td><td>2023-07-07</td><td>null</td><td>null</td></tr><tr><td>1</td><td>A</td><td>2023-06-06</td><td>null</td><td>null</td></tr><tr><td>2</td><td>A</td><td>2022-06-06</td><td>null</td><td>null</td></tr><tr><td>2</td><td>A</td><td>2023-06-11</td><td>null</td><td>null</td></tr><tr><td>3</td><td>A</td><td>2023-06-10</td><td>null</td><td>null</td></tr><tr><td>3</td><td>A</td><td>2022-06-11</td><td>null</td><td>null</td></tr><tr><td>3</td><td>A</td><td>2023-06-11</td><td>null</td><td>null</td></tr><tr><td>2</td><td>B</td><td>2022-02-06</td><td>null</td><td>null</td></tr><tr><td>2</td><td>B</td><td>2023-06-02</td><td>null</td><td>null</td></tr><tr><td>1</td><td>B</td><td>2023-06-04</td><td>null</td><td>null</td></tr><tr><td>1</td><td>B</td><td>2023-02-11</td><td>null</td><td>null</td></tr><tr><td>3</td><td>B</td><td>2023-06-16</td><td>null</td><td>null</td></tr><tr><td>3</td><td>B</td><td>2022-02-06</td><td>null</td><td>null</td></tr><tr><td>3</td><td>C</td><td>2023-06-06</td><td>null</td><td>null</td></tr><tr><td>1</td><td>C</td><td>2023-06-06</td><td>null</td><td>null</td></tr><tr><td>6</td><td>C</td><td>2022-06-11</td><td>null</td><td>null</td></tr><tr><td>3</td><td>D</td><td>2023-02-16</td><td>null</td><td>null</td></tr><tr><td>5</td><td>D</td><td>2022-02-06</td><td>null</td><td>null</td></tr><tr><td>3</td><td>E</td><td>2023-02-06</td><td>null</td><td>null</td></tr><tr><td>4</td><td>E</td><td>2023-02-06</td><td>null</td><td>null</td></tr><tr><td>4</td><td>E</td><td>2023-02-11</td><td>null</td><td>null</td></tr><tr><td>2</td><td>A</td><td>2022-06-06</td><td>null</td><td>null</td></tr><tr><td>2</td><td>A</td><td>2023-06-11</td><td>null</td><td>null</td></tr><tr><td>3</td><td>A</td><td>2023-06-10</td><td>null</td><td>null</td></tr><tr><td>3</td><td>A</td><td>2022-06-11</td><td>null</td><td>null</td></tr><tr><td>3</td><td>A</td><td>2023-06-11</td><td>null</td><td>null</td></tr><tr><td>2</td><td>B</td><td>2022-11-06</td><td>null</td><td>null</td></tr><tr><td>2</td><td>B</td><td>2023-06-02</td><td>null</td><td>null</td></tr><tr><td>1</td><td>B</td><td>2023-06-04</td><td>null</td><td>null</td></tr><tr><td>1</td><td>B</td><td>2023-11-11</td><td>null</td><td>null</td></tr><tr><td>3</td><td>B</td><td>2023-06-16</td><td>null</td><td>null</td></tr><tr><td>3</td><td>B</td><td>2023-11-06</td><td>null</td><td>null</td></tr><tr><td>3</td><td>C</td><td>2023-06-06</td><td>null</td><td>null</td></tr><tr><td>1</td><td>C</td><td>2023-06-06</td><td>null</td><td>null</td></tr><tr><td>6</td><td>C</td><td>2023-06-11</td><td>null</td><td>null</td></tr><tr><td>3</td><td>D</td><td>2022-11-16</td><td>null</td><td>null</td></tr><tr><td>5</td><td>D</td><td>2023-11-06</td><td>null</td><td>null</td></tr><tr><td>3</td><td>E</td><td>2023-11-06</td><td>null</td><td>null</td></tr><tr><td>4</td><td>E</td><td>2022-11-06</td><td>null</td><td>null</td></tr><tr><td>4</td><td>E</td><td>2023-11-11</td><td>null</td><td>null</td></tr></tbody></table></div>"
      ]
     },
     "metadata": {
      "application/vnd.databricks.v1+output": {
       "addedWidgets": {},
       "aggData": [],
       "aggError": "",
       "aggOverflow": false,
       "aggSchema": [],
       "aggSeriesLimitReached": false,
       "aggType": "",
       "arguments": {},
       "columnCustomDisplayInfos": {},
       "data": [
        [
         1,
         "A",
         "2023-01-01",
         null,
         null
        ],
        [
         2,
         "A",
         "2022-01-01",
         null,
         null
        ],
        [
         2,
         "A",
         "2023-01-07",
         null,
         null
        ],
        [
         3,
         "A",
         "2023-01-10",
         null,
         null
        ],
        [
         3,
         "A",
         "2022-01-11",
         null,
         null
        ],
        [
         3,
         "A",
         "2023-01-11",
         null,
         null
        ],
        [
         2,
         "B",
         "2022-02-01",
         null,
         null
        ],
        [
         2,
         "B",
         "2023-01-02",
         null,
         null
        ],
        [
         1,
         "B",
         "2023-01-04",
         null,
         null
        ],
        [
         1,
         "B",
         "2023-02-11",
         null,
         null
        ],
        [
         3,
         "B",
         "2023-01-16",
         null,
         null
        ],
        [
         3,
         "B",
         "2022-02-01",
         null,
         null
        ],
        [
         3,
         "C",
         "2023-01-01",
         null,
         null
        ],
        [
         1,
         "C",
         "2023-01-01",
         null,
         null
        ],
        [
         6,
         "C",
         "2022-01-07",
         null,
         null
        ],
        [
         3,
         "D",
         "2023-02-16",
         null,
         null
        ],
        [
         5,
         "D",
         "2022-02-01",
         null,
         null
        ],
        [
         3,
         "E",
         "2023-02-01",
         null,
         null
        ],
        [
         4,
         "E",
         "2023-02-01",
         null,
         null
        ],
        [
         4,
         "E",
         "2023-02-07",
         null,
         null
        ],
        [
         2,
         "A",
         "2022-01-01",
         null,
         null
        ],
        [
         2,
         "A",
         "2023-01-07",
         null,
         null
        ],
        [
         3,
         "A",
         "2023-01-10",
         null,
         null
        ],
        [
         3,
         "A",
         "2022-01-11",
         null,
         null
        ],
        [
         3,
         "A",
         "2023-01-11",
         null,
         null
        ],
        [
         2,
         "B",
         "2022-03-01",
         null,
         null
        ],
        [
         2,
         "B",
         "2023-01-02",
         null,
         null
        ],
        [
         1,
         "B",
         "2023-01-04",
         null,
         null
        ],
        [
         1,
         "B",
         "2023-03-11",
         null,
         null
        ],
        [
         3,
         "B",
         "2023-01-16",
         null,
         null
        ],
        [
         3,
         "B",
         "2023-03-01",
         null,
         null
        ],
        [
         3,
         "C",
         "2023-01-01",
         null,
         null
        ],
        [
         1,
         "C",
         "2023-01-01",
         null,
         null
        ],
        [
         6,
         "C",
         "2023-01-07",
         null,
         null
        ],
        [
         3,
         "D",
         "2022-03-16",
         null,
         null
        ],
        [
         5,
         "D",
         "2023-03-01",
         null,
         null
        ],
        [
         3,
         "E",
         "2023-03-01",
         null,
         null
        ],
        [
         4,
         "E",
         "2022-03-01",
         null,
         null
        ],
        [
         4,
         "E",
         "2023-03-07",
         null,
         null
        ],
        [
         1,
         "A",
         "2023-05-05",
         null,
         null
        ],
        [
         2,
         "A",
         "2022-05-05",
         null,
         null
        ],
        [
         2,
         "A",
         "2023-05-07",
         null,
         null
        ],
        [
         3,
         "A",
         "2023-05-10",
         null,
         null
        ],
        [
         3,
         "A",
         "2022-05-11",
         null,
         null
        ],
        [
         3,
         "A",
         "2023-05-11",
         null,
         null
        ],
        [
         2,
         "B",
         "2022-02-05",
         null,
         null
        ],
        [
         2,
         "B",
         "2023-05-02",
         null,
         null
        ],
        [
         1,
         "B",
         "2023-05-04",
         null,
         null
        ],
        [
         1,
         "B",
         "2023-02-11",
         null,
         null
        ],
        [
         3,
         "B",
         "2023-05-16",
         null,
         null
        ],
        [
         3,
         "B",
         "2022-02-05",
         null,
         null
        ],
        [
         3,
         "C",
         "2023-05-05",
         null,
         null
        ],
        [
         1,
         "C",
         "2023-05-05",
         null,
         null
        ],
        [
         6,
         "C",
         "2022-05-07",
         null,
         null
        ],
        [
         3,
         "D",
         "2023-02-16",
         null,
         null
        ],
        [
         5,
         "D",
         "2022-02-05",
         null,
         null
        ],
        [
         3,
         "E",
         "2023-02-05",
         null,
         null
        ],
        [
         4,
         "E",
         "2023-02-05",
         null,
         null
        ],
        [
         4,
         "E",
         "2023-02-07",
         null,
         null
        ],
        [
         2,
         "A",
         "2022-05-05",
         null,
         null
        ],
        [
         2,
         "A",
         "2023-05-07",
         null,
         null
        ],
        [
         3,
         "A",
         "2023-05-10",
         null,
         null
        ],
        [
         3,
         "A",
         "2022-05-11",
         null,
         null
        ],
        [
         3,
         "A",
         "2023-05-11",
         null,
         null
        ],
        [
         2,
         "B",
         "2022-07-05",
         null,
         null
        ],
        [
         2,
         "B",
         "2023-05-02",
         null,
         null
        ],
        [
         1,
         "B",
         "2023-05-04",
         null,
         null
        ],
        [
         1,
         "B",
         "2023-07-11",
         null,
         null
        ],
        [
         3,
         "B",
         "2023-05-16",
         null,
         null
        ],
        [
         3,
         "B",
         "2023-07-05",
         null,
         null
        ],
        [
         3,
         "C",
         "2023-05-05",
         null,
         null
        ],
        [
         1,
         "C",
         "2023-05-05",
         null,
         null
        ],
        [
         6,
         "C",
         "2023-05-07",
         null,
         null
        ],
        [
         3,
         "D",
         "2022-07-16",
         null,
         null
        ],
        [
         5,
         "D",
         "2023-07-05",
         null,
         null
        ],
        [
         3,
         "E",
         "2023-07-05",
         null,
         null
        ],
        [
         4,
         "E",
         "2022-07-05",
         null,
         null
        ],
        [
         4,
         "E",
         "2023-07-07",
         null,
         null
        ],
        [
         1,
         "A",
         "2023-06-06",
         null,
         null
        ],
        [
         2,
         "A",
         "2022-06-06",
         null,
         null
        ],
        [
         2,
         "A",
         "2023-06-11",
         null,
         null
        ],
        [
         3,
         "A",
         "2023-06-10",
         null,
         null
        ],
        [
         3,
         "A",
         "2022-06-11",
         null,
         null
        ],
        [
         3,
         "A",
         "2023-06-11",
         null,
         null
        ],
        [
         2,
         "B",
         "2022-02-06",
         null,
         null
        ],
        [
         2,
         "B",
         "2023-06-02",
         null,
         null
        ],
        [
         1,
         "B",
         "2023-06-04",
         null,
         null
        ],
        [
         1,
         "B",
         "2023-02-11",
         null,
         null
        ],
        [
         3,
         "B",
         "2023-06-16",
         null,
         null
        ],
        [
         3,
         "B",
         "2022-02-06",
         null,
         null
        ],
        [
         3,
         "C",
         "2023-06-06",
         null,
         null
        ],
        [
         1,
         "C",
         "2023-06-06",
         null,
         null
        ],
        [
         6,
         "C",
         "2022-06-11",
         null,
         null
        ],
        [
         3,
         "D",
         "2023-02-16",
         null,
         null
        ],
        [
         5,
         "D",
         "2022-02-06",
         null,
         null
        ],
        [
         3,
         "E",
         "2023-02-06",
         null,
         null
        ],
        [
         4,
         "E",
         "2023-02-06",
         null,
         null
        ],
        [
         4,
         "E",
         "2023-02-11",
         null,
         null
        ],
        [
         2,
         "A",
         "2022-06-06",
         null,
         null
        ],
        [
         2,
         "A",
         "2023-06-11",
         null,
         null
        ],
        [
         3,
         "A",
         "2023-06-10",
         null,
         null
        ],
        [
         3,
         "A",
         "2022-06-11",
         null,
         null
        ],
        [
         3,
         "A",
         "2023-06-11",
         null,
         null
        ],
        [
         2,
         "B",
         "2022-11-06",
         null,
         null
        ],
        [
         2,
         "B",
         "2023-06-02",
         null,
         null
        ],
        [
         1,
         "B",
         "2023-06-04",
         null,
         null
        ],
        [
         1,
         "B",
         "2023-11-11",
         null,
         null
        ],
        [
         3,
         "B",
         "2023-06-16",
         null,
         null
        ],
        [
         3,
         "B",
         "2023-11-06",
         null,
         null
        ],
        [
         3,
         "C",
         "2023-06-06",
         null,
         null
        ],
        [
         1,
         "C",
         "2023-06-06",
         null,
         null
        ],
        [
         6,
         "C",
         "2023-06-11",
         null,
         null
        ],
        [
         3,
         "D",
         "2022-11-16",
         null,
         null
        ],
        [
         5,
         "D",
         "2023-11-06",
         null,
         null
        ],
        [
         3,
         "E",
         "2023-11-06",
         null,
         null
        ],
        [
         4,
         "E",
         "2022-11-06",
         null,
         null
        ],
        [
         4,
         "E",
         "2023-11-11",
         null,
         null
        ]
       ],
       "datasetInfos": [],
       "dbfsResultPath": null,
       "isJsonSchema": true,
       "metadata": {},
       "overflow": false,
       "plotOptions": {
        "customPlotOptions": {},
        "displayType": "table",
        "pivotAggregation": null,
        "pivotColumns": null,
        "xColumns": null,
        "yColumns": null
       },
       "removedWidgets": [],
       "schema": [
        {
         "metadata": "{}",
         "name": "product_id",
         "type": "\"integer\""
        },
        {
         "metadata": "{}",
         "name": "customer_id",
         "type": "\"string\""
        },
        {
         "metadata": "{}",
         "name": "order_date",
         "type": "\"date\""
        },
        {
         "metadata": "{}",
         "name": "location",
         "type": "\"integer\""
        },
        {
         "metadata": "{}",
         "name": "source_order",
         "type": "\"integer\""
        }
       ],
       "type": "table"
      }
     },
     "output_type": "display_data"
    }
   ],
   "source": [
    "sales_df = spark.read.format(\"csv\").option(\"inferschema\", \"true\").schema(schema).load(\"/FileStore/tables/sales_csv.txt\")\n",
    "sales_df.show()\n",
    "display(sales_df)"
   ]
  },
  {
   "cell_type": "code",
   "execution_count": 0,
   "metadata": {
    "application/vnd.databricks.v1+cell": {
     "cellMetadata": {
      "byteLimit": 2048000,
      "rowLimit": 10000
     },
     "inputWidgets": {},
     "nuid": "cdcf1edb-a40c-4476-8ef2-7990e34a9a7c",
     "showTitle": true,
     "tableResultSettingsMap": {},
     "title": "derive from yearly, month"
    }
   },
   "outputs": [
    {
     "output_type": "stream",
     "name": "stdout",
     "output_type": "stream",
     "text": [
      "+----------+-----------+----------+--------+------------+----------+\n|product_id|customer_id|order_date|location|source_order|order_year|\n+----------+-----------+----------+--------+------------+----------+\n|         1|          A|2023-01-01|    null|        null|      2023|\n|         2|          A|2022-01-01|    null|        null|      2022|\n|         2|          A|2023-01-07|    null|        null|      2023|\n|         3|          A|2023-01-10|    null|        null|      2023|\n|         3|          A|2022-01-11|    null|        null|      2022|\n|         3|          A|2023-01-11|    null|        null|      2023|\n|         2|          B|2022-02-01|    null|        null|      2022|\n|         2|          B|2023-01-02|    null|        null|      2023|\n|         1|          B|2023-01-04|    null|        null|      2023|\n|         1|          B|2023-02-11|    null|        null|      2023|\n|         3|          B|2023-01-16|    null|        null|      2023|\n|         3|          B|2022-02-01|    null|        null|      2022|\n|         3|          C|2023-01-01|    null|        null|      2023|\n|         1|          C|2023-01-01|    null|        null|      2023|\n|         6|          C|2022-01-07|    null|        null|      2022|\n|         3|          D|2023-02-16|    null|        null|      2023|\n|         5|          D|2022-02-01|    null|        null|      2022|\n|         3|          E|2023-02-01|    null|        null|      2023|\n|         4|          E|2023-02-01|    null|        null|      2023|\n|         4|          E|2023-02-07|    null|        null|      2023|\n+----------+-----------+----------+--------+------------+----------+\nonly showing top 20 rows\n\n"
     ]
    }
   ],
   "source": [
    "from pyspark.sql.functions import month, year, quarter\n",
    "\n",
    "sales_df = sales_df.withColumn(\"order_year\", year(sales_df.order_date))\n",
    "sales_df.show()"
   ]
  },
  {
   "cell_type": "code",
   "execution_count": 0,
   "metadata": {
    "application/vnd.databricks.v1+cell": {
     "cellMetadata": {
      "byteLimit": 2048000,
      "rowLimit": 10000
     },
     "inputWidgets": {},
     "nuid": "1b7372e6-d298-4f4b-8172-4c50e726966f",
     "showTitle": false,
     "tableResultSettingsMap": {},
     "title": ""
    }
   },
   "outputs": [
    {
     "output_type": "stream",
     "name": "stdout",
     "output_type": "stream",
     "text": [
      "+----------+-----------+----------+--------+------------+----------+-------------+-----------+\n|product_id|customer_id|order_date|location|source_order|order_year|order_quarter|order_month|\n+----------+-----------+----------+--------+------------+----------+-------------+-----------+\n|         1|          A|2023-01-01|    null|        null|      2023|            1|          1|\n|         2|          A|2022-01-01|    null|        null|      2022|            1|          1|\n|         2|          A|2023-01-07|    null|        null|      2023|            1|          1|\n|         3|          A|2023-01-10|    null|        null|      2023|            1|          1|\n|         3|          A|2022-01-11|    null|        null|      2022|            1|          1|\n|         3|          A|2023-01-11|    null|        null|      2023|            1|          1|\n|         2|          B|2022-02-01|    null|        null|      2022|            1|          2|\n|         2|          B|2023-01-02|    null|        null|      2023|            1|          1|\n|         1|          B|2023-01-04|    null|        null|      2023|            1|          1|\n|         1|          B|2023-02-11|    null|        null|      2023|            1|          2|\n|         3|          B|2023-01-16|    null|        null|      2023|            1|          1|\n|         3|          B|2022-02-01|    null|        null|      2022|            1|          2|\n|         3|          C|2023-01-01|    null|        null|      2023|            1|          1|\n|         1|          C|2023-01-01|    null|        null|      2023|            1|          1|\n|         6|          C|2022-01-07|    null|        null|      2022|            1|          1|\n|         3|          D|2023-02-16|    null|        null|      2023|            1|          2|\n|         5|          D|2022-02-01|    null|        null|      2022|            1|          2|\n|         3|          E|2023-02-01|    null|        null|      2023|            1|          2|\n|         4|          E|2023-02-01|    null|        null|      2023|            1|          2|\n|         4|          E|2023-02-07|    null|        null|      2023|            1|          2|\n+----------+-----------+----------+--------+------------+----------+-------------+-----------+\nonly showing top 20 rows\n\n"
     ]
    }
   ],
   "source": [
    "sales_df = sales_df.withColumn(\"order_quarter\", quarter(sales_df.order_date))\n",
    "sales_df = sales_df.withColumn(\"order_month\", month(sales_df.order_date))\n",
    "\n",
    "sales_df.show()"
   ]
  },
  {
   "cell_type": "code",
   "execution_count": 0,
   "metadata": {
    "application/vnd.databricks.v1+cell": {
     "cellMetadata": {
      "byteLimit": 2048000,
      "rowLimit": 10000
     },
     "inputWidgets": {},
     "nuid": "2879cf31-1fdd-4f40-8bed-930d54626d35",
     "showTitle": true,
     "tableResultSettingsMap": {},
     "title": "second dataframe read"
    }
   },
   "outputs": [
    {
     "output_type": "stream",
     "name": "stdout",
     "output_type": "stream",
     "text": [
      "+----------+------------+-----+\n|product_id|product_name|price|\n+----------+------------+-----+\n|         1|       PIZZA|  100|\n|         2|     Chowmin|  150|\n|         3|    sandwich|  120|\n|         4|        Dosa|  110|\n|         5|     Biryani|   80|\n|         6|       Pasta|  180|\n+----------+------------+-----+\n\n"
     ]
    },
    {
     "output_type": "display_data",
     "data": {
      "text/html": [
       "<style scoped>\n",
       "  .table-result-container {\n",
       "    max-height: 300px;\n",
       "    overflow: auto;\n",
       "  }\n",
       "  table, th, td {\n",
       "    border: 1px solid black;\n",
       "    border-collapse: collapse;\n",
       "  }\n",
       "  th, td {\n",
       "    padding: 5px;\n",
       "  }\n",
       "  th {\n",
       "    text-align: left;\n",
       "  }\n",
       "</style><div class='table-result-container'><table class='table-result'><thead style='background-color: white'><tr><th>product_id</th><th>product_name</th><th>price</th></tr></thead><tbody><tr><td>1</td><td> PIZZA</td><td> 100</td></tr><tr><td>2</td><td> Chowmin</td><td> 150</td></tr><tr><td>3</td><td> sandwich</td><td> 120</td></tr><tr><td>4</td><td> Dosa</td><td> 110</td></tr><tr><td>5</td><td> Biryani</td><td> 80</td></tr><tr><td>6</td><td> Pasta</td><td> 180</td></tr></tbody></table></div>"
      ]
     },
     "metadata": {
      "application/vnd.databricks.v1+output": {
       "addedWidgets": {},
       "aggData": [],
       "aggError": "",
       "aggOverflow": false,
       "aggSchema": [],
       "aggSeriesLimitReached": false,
       "aggType": "",
       "arguments": {},
       "columnCustomDisplayInfos": {},
       "data": [
        [
         1,
         " PIZZA",
         " 100"
        ],
        [
         2,
         " Chowmin",
         " 150"
        ],
        [
         3,
         " sandwich",
         " 120"
        ],
        [
         4,
         " Dosa",
         " 110"
        ],
        [
         5,
         " Biryani",
         " 80"
        ],
        [
         6,
         " Pasta",
         " 180"
        ]
       ],
       "datasetInfos": [],
       "dbfsResultPath": null,
       "isJsonSchema": true,
       "metadata": {},
       "overflow": false,
       "plotOptions": {
        "customPlotOptions": {},
        "displayType": "table",
        "pivotAggregation": null,
        "pivotColumns": null,
        "xColumns": null,
        "yColumns": null
       },
       "removedWidgets": [],
       "schema": [
        {
         "metadata": "{}",
         "name": "product_id",
         "type": "\"integer\""
        },
        {
         "metadata": "{}",
         "name": "product_name",
         "type": "\"string\""
        },
        {
         "metadata": "{}",
         "name": "price",
         "type": "\"string\""
        }
       ],
       "type": "table"
      }
     },
     "output_type": "display_data"
    }
   ],
   "source": [
    "schema = StructType([\n",
    "         StructField(\"product_id\",IntegerType(), True),\n",
    "         StructField(\"product_name\", StringType(), True),\n",
    "         StructField(\"price\", StringType(), True),\n",
    "])\n",
    "\n",
    "\n",
    "\n",
    "menu_df = spark.read.format(\"csv\").option(\"inferschema\", \"true\").schema(schema).load(\"/FileStore/tables/menu_csv.txt\")\n",
    "menu_df.show()\n",
    "display(menu_df)"
   ]
  },
  {
   "cell_type": "code",
   "execution_count": 0,
   "metadata": {
    "application/vnd.databricks.v1+cell": {
     "cellMetadata": {
      "byteLimit": 2048000,
      "rowLimit": 10000
     },
     "inputWidgets": {},
     "nuid": "a3bbd0f9-a479-4268-9c6c-cb801bec2398",
     "showTitle": true,
     "tableResultSettingsMap": {},
     "title": "- Total amount spend by each customer."
    }
   },
   "outputs": [
    {
     "output_type": "display_data",
     "data": {
      "text/html": [
       "<style scoped>\n",
       "  .table-result-container {\n",
       "    max-height: 300px;\n",
       "    overflow: auto;\n",
       "  }\n",
       "  table, th, td {\n",
       "    border: 1px solid black;\n",
       "    border-collapse: collapse;\n",
       "  }\n",
       "  th, td {\n",
       "    padding: 5px;\n",
       "  }\n",
       "  th {\n",
       "    text-align: left;\n",
       "  }\n",
       "</style><div class='table-result-container'><table class='table-result'><thead style='background-color: white'><tr><th>customer_id</th><th>sum(price)</th></tr></thead><tbody><tr><td>A</td><td>4260.0</td></tr><tr><td>B</td><td>4440.0</td></tr><tr><td>C</td><td>2400.0</td></tr><tr><td>D</td><td>1200.0</td></tr><tr><td>E</td><td>2040.0</td></tr></tbody></table></div>"
      ]
     },
     "metadata": {
      "application/vnd.databricks.v1+output": {
       "addedWidgets": {},
       "aggData": [],
       "aggError": "",
       "aggOverflow": false,
       "aggSchema": [],
       "aggSeriesLimitReached": false,
       "aggType": "",
       "arguments": {},
       "columnCustomDisplayInfos": {},
       "data": [
        [
         "A",
         4260.0
        ],
        [
         "B",
         4440.0
        ],
        [
         "C",
         2400.0
        ],
        [
         "D",
         1200.0
        ],
        [
         "E",
         2040.0
        ]
       ],
       "datasetInfos": [],
       "dbfsResultPath": null,
       "isJsonSchema": true,
       "metadata": {},
       "overflow": false,
       "plotOptions": {
        "customPlotOptions": {},
        "displayType": "table",
        "pivotAggregation": null,
        "pivotColumns": null,
        "xColumns": null,
        "yColumns": null
       },
       "removedWidgets": [],
       "schema": [
        {
         "metadata": "{}",
         "name": "customer_id",
         "type": "\"string\""
        },
        {
         "metadata": "{}",
         "name": "sum(price)",
         "type": "\"double\""
        }
       ],
       "type": "table"
      }
     },
     "output_type": "display_data"
    }
   ],
   "source": [
    "total_amount_spend = (sales_df.join(menu_df,'product_id').groupBy('customer_id').agg({'price':'sum'})\n",
    "                       .orderBy('customer_id'))\n",
    " \n",
    "display(total_amount_spend)"
   ]
  },
  {
   "cell_type": "code",
   "execution_count": 0,
   "metadata": {
    "application/vnd.databricks.v1+cell": {
     "cellMetadata": {
      "byteLimit": 2048000,
      "rowLimit": 10000
     },
     "inputWidgets": {},
     "nuid": "67f3db8d-aa1f-4b73-af64-6b29dd14cb05",
     "showTitle": true,
     "tableResultSettingsMap": {},
     "title": "- Total amount spend by each food category."
    }
   },
   "outputs": [
    {
     "output_type": "display_data",
     "data": {
      "text/html": [
       "<style scoped>\n",
       "  .table-result-container {\n",
       "    max-height: 300px;\n",
       "    overflow: auto;\n",
       "  }\n",
       "  table, th, td {\n",
       "    border: 1px solid black;\n",
       "    border-collapse: collapse;\n",
       "  }\n",
       "  th, td {\n",
       "    padding: 5px;\n",
       "  }\n",
       "  th {\n",
       "    text-align: left;\n",
       "  }\n",
       "</style><div class='table-result-container'><table class='table-result'><thead style='background-color: white'><tr><th>product_name</th><th>sum(price)</th></tr></thead><tbody><tr><td> Biryani</td><td>480.0</td></tr><tr><td> Chowmin</td><td>3600.0</td></tr><tr><td> Dosa</td><td>1320.0</td></tr><tr><td> PIZZA</td><td>2100.0</td></tr><tr><td> Pasta</td><td>1080.0</td></tr><tr><td> sandwich</td><td>5760.0</td></tr></tbody></table></div>"
      ]
     },
     "metadata": {
      "application/vnd.databricks.v1+output": {
       "addedWidgets": {},
       "aggData": [],
       "aggError": "",
       "aggOverflow": false,
       "aggSchema": [],
       "aggSeriesLimitReached": false,
       "aggType": "",
       "arguments": {},
       "columnCustomDisplayInfos": {},
       "data": [
        [
         " Biryani",
         480.0
        ],
        [
         " Chowmin",
         3600.0
        ],
        [
         " Dosa",
         1320.0
        ],
        [
         " PIZZA",
         2100.0
        ],
        [
         " Pasta",
         1080.0
        ],
        [
         " sandwich",
         5760.0
        ]
       ],
       "datasetInfos": [],
       "dbfsResultPath": null,
       "isJsonSchema": true,
       "metadata": {},
       "overflow": false,
       "plotOptions": {
        "customPlotOptions": {},
        "displayType": "table",
        "pivotAggregation": null,
        "pivotColumns": null,
        "xColumns": null,
        "yColumns": null
       },
       "removedWidgets": [],
       "schema": [
        {
         "metadata": "{}",
         "name": "product_name",
         "type": "\"string\""
        },
        {
         "metadata": "{}",
         "name": "sum(price)",
         "type": "\"double\""
        }
       ],
       "type": "table"
      }
     },
     "output_type": "display_data"
    },
    {
     "output_type": "stream",
     "name": "stdout",
     "output_type": "stream",
     "text": [
      "+------------+----------+\n|product_name|sum(price)|\n+------------+----------+\n|     Biryani|     480.0|\n|     Chowmin|    3600.0|\n|        Dosa|    1320.0|\n|       PIZZA|    2100.0|\n|       Pasta|    1080.0|\n|    sandwich|    5760.0|\n+------------+----------+\n\n"
     ]
    }
   ],
   "source": [
    "total_amount_food_cat = (sales_df.join(menu_df,'product_id').groupBy('product_name').agg({'price':'sum'})\n",
    "                          .orderBy('product_name'))\n",
    "\n",
    "display(total_amount_food_cat)"
   ]
  },
  {
   "cell_type": "code",
   "execution_count": 0,
   "metadata": {
    "application/vnd.databricks.v1+cell": {
     "cellMetadata": {
      "byteLimit": 2048000,
      "rowLimit": 10000
     },
     "inputWidgets": {},
     "nuid": "53c76100-02c5-467b-8d8a-c14d7d6b8ea4",
     "showTitle": true,
     "tableResultSettingsMap": {},
     "title": "- Total amount of sales in each month."
    }
   },
   "outputs": [
    {
     "output_type": "display_data",
     "data": {
      "text/html": [
       "<style scoped>\n",
       "  .table-result-container {\n",
       "    max-height: 300px;\n",
       "    overflow: auto;\n",
       "  }\n",
       "  table, th, td {\n",
       "    border: 1px solid black;\n",
       "    border-collapse: collapse;\n",
       "  }\n",
       "  th, td {\n",
       "    padding: 5px;\n",
       "  }\n",
       "  th {\n",
       "    text-align: left;\n",
       "  }\n",
       "</style><div class='table-result-container'><table class='table-result'><thead style='background-color: white'><tr><th>order_month</th><th>sum(price)</th></tr></thead><tbody><tr><td>1</td><td>2960.0</td></tr><tr><td>6</td><td>2960.0</td></tr><tr><td>3</td><td>910.0</td></tr><tr><td>5</td><td>2960.0</td></tr><tr><td>7</td><td>910.0</td></tr><tr><td>11</td><td>910.0</td></tr><tr><td>2</td><td>2730.0</td></tr></tbody></table></div>"
      ]
     },
     "metadata": {
      "application/vnd.databricks.v1+output": {
       "addedWidgets": {},
       "aggData": [],
       "aggError": "",
       "aggOverflow": false,
       "aggSchema": [],
       "aggSeriesLimitReached": false,
       "aggType": "",
       "arguments": {},
       "columnCustomDisplayInfos": {},
       "data": [
        [
         1,
         2960.0
        ],
        [
         6,
         2960.0
        ],
        [
         3,
         910.0
        ],
        [
         5,
         2960.0
        ],
        [
         7,
         910.0
        ],
        [
         11,
         910.0
        ],
        [
         2,
         2730.0
        ]
       ],
       "datasetInfos": [],
       "dbfsResultPath": null,
       "isJsonSchema": true,
       "metadata": {},
       "overflow": false,
       "plotOptions": {
        "customPlotOptions": {},
        "displayType": "table",
        "pivotAggregation": null,
        "pivotColumns": null,
        "xColumns": null,
        "yColumns": null
       },
       "removedWidgets": [],
       "schema": [
        {
         "metadata": "{}",
         "name": "order_month",
         "type": "\"integer\""
        },
        {
         "metadata": "{}",
         "name": "sum(price)",
         "type": "\"double\""
        }
       ],
       "type": "table"
      }
     },
     "output_type": "display_data"
    }
   ],
   "source": [
    "total_amount_sales = (sales_df.join(menu_df,'product_id').groupBy('order_month').agg({'price':'sum'}))\n",
    "\n",
    "display(total_amount_sales)"
   ]
  },
  {
   "cell_type": "code",
   "execution_count": 0,
   "metadata": {
    "application/vnd.databricks.v1+cell": {
     "cellMetadata": {
      "byteLimit": 2048000,
      "rowLimit": 10000
     },
     "inputWidgets": {},
     "nuid": "bf4550e3-6100-4257-866b-d13c8aa62763",
     "showTitle": true,
     "tableResultSettingsMap": {},
     "title": "Yearly sales"
    }
   },
   "outputs": [
    {
     "output_type": "display_data",
     "data": {
      "text/html": [
       "<style scoped>\n",
       "  .table-result-container {\n",
       "    max-height: 300px;\n",
       "    overflow: auto;\n",
       "  }\n",
       "  table, th, td {\n",
       "    border: 1px solid black;\n",
       "    border-collapse: collapse;\n",
       "  }\n",
       "  th, td {\n",
       "    padding: 5px;\n",
       "  }\n",
       "  th {\n",
       "    text-align: left;\n",
       "  }\n",
       "</style><div class='table-result-container'><table class='table-result'><thead style='background-color: white'><tr><th>order_year</th><th>sum(price)</th></tr></thead><tbody><tr><td>2022</td><td>4350.0</td></tr><tr><td>2023</td><td>9990.0</td></tr></tbody></table></div>"
      ]
     },
     "metadata": {
      "application/vnd.databricks.v1+output": {
       "addedWidgets": {},
       "aggData": [],
       "aggError": "",
       "aggOverflow": false,
       "aggSchema": [],
       "aggSeriesLimitReached": false,
       "aggType": "",
       "arguments": {},
       "columnCustomDisplayInfos": {},
       "data": [
        [
         2022,
         4350.0
        ],
        [
         2023,
         9990.0
        ]
       ],
       "datasetInfos": [],
       "dbfsResultPath": null,
       "isJsonSchema": true,
       "metadata": {},
       "overflow": false,
       "plotOptions": {
        "customPlotOptions": {},
        "displayType": "table",
        "pivotAggregation": null,
        "pivotColumns": null,
        "xColumns": null,
        "yColumns": null
       },
       "removedWidgets": [],
       "schema": [
        {
         "metadata": "{}",
         "name": "order_year",
         "type": "\"integer\""
        },
        {
         "metadata": "{}",
         "name": "sum(price)",
         "type": "\"double\""
        }
       ],
       "type": "table"
      }
     },
     "output_type": "display_data"
    }
   ],
   "source": [
    "yearly_sales = (sales_df.join(menu_df, 'product_id').groupBy('order_year').agg({'price':'sum'})\n",
    "                 .orderBy('order_year'))\n",
    "\n",
    "display(yearly_sales)"
   ]
  },
  {
   "cell_type": "code",
   "execution_count": 0,
   "metadata": {
    "application/vnd.databricks.v1+cell": {
     "cellMetadata": {
      "byteLimit": 2048000,
      "rowLimit": 10000
     },
     "inputWidgets": {},
     "nuid": "b726f6e1-1631-475d-9ee4-80579ed1ba91",
     "showTitle": true,
     "tableResultSettingsMap": {},
     "title": "quartly_sales"
    }
   },
   "outputs": [
    {
     "output_type": "display_data",
     "data": {
      "text/html": [
       "<style scoped>\n",
       "  .table-result-container {\n",
       "    max-height: 300px;\n",
       "    overflow: auto;\n",
       "  }\n",
       "  table, th, td {\n",
       "    border: 1px solid black;\n",
       "    border-collapse: collapse;\n",
       "  }\n",
       "  th, td {\n",
       "    padding: 5px;\n",
       "  }\n",
       "  th {\n",
       "    text-align: left;\n",
       "  }\n",
       "</style><div class='table-result-container'><table class='table-result'><thead style='background-color: white'><tr><th>order_quarter</th><th>sum(price)</th></tr></thead><tbody><tr><td>1</td><td>6600.0</td></tr><tr><td>2</td><td>5920.0</td></tr><tr><td>3</td><td>910.0</td></tr><tr><td>4</td><td>910.0</td></tr></tbody></table></div>"
      ]
     },
     "metadata": {
      "application/vnd.databricks.v1+output": {
       "addedWidgets": {},
       "aggData": [],
       "aggError": "",
       "aggOverflow": false,
       "aggSchema": [],
       "aggSeriesLimitReached": false,
       "aggType": "",
       "arguments": {},
       "columnCustomDisplayInfos": {},
       "data": [
        [
         1,
         6600.0
        ],
        [
         2,
         5920.0
        ],
        [
         3,
         910.0
        ],
        [
         4,
         910.0
        ]
       ],
       "datasetInfos": [],
       "dbfsResultPath": null,
       "isJsonSchema": true,
       "metadata": {},
       "overflow": false,
       "plotOptions": {
        "customPlotOptions": {},
        "displayType": "table",
        "pivotAggregation": null,
        "pivotColumns": null,
        "xColumns": null,
        "yColumns": null
       },
       "removedWidgets": [],
       "schema": [
        {
         "metadata": "{}",
         "name": "order_quarter",
         "type": "\"integer\""
        },
        {
         "metadata": "{}",
         "name": "sum(price)",
         "type": "\"double\""
        }
       ],
       "type": "table"
      }
     },
     "output_type": "display_data"
    }
   ],
   "source": [
    "quartly_sales = (sales_df.join(menu_df,'product_id').groupBy('order_quarter').agg({'price':'sum'})\n",
    "                 .orderBy('order_quarter'))\n",
    "\n",
    "display(quartly_sales)"
   ]
  },
  {
   "cell_type": "code",
   "execution_count": 0,
   "metadata": {
    "application/vnd.databricks.v1+cell": {
     "cellMetadata": {
      "byteLimit": 2048000,
      "rowLimit": 10000
     },
     "inputWidgets": {},
     "nuid": "58031346-5274-411f-8f4d-733ce6aff574",
     "showTitle": true,
     "tableResultSettingsMap": {},
     "title": "monthly_order"
    }
   },
   "outputs": [
    {
     "output_type": "display_data",
     "data": {
      "text/html": [
       "<style scoped>\n",
       "  .table-result-container {\n",
       "    max-height: 300px;\n",
       "    overflow: auto;\n",
       "  }\n",
       "  table, th, td {\n",
       "    border: 1px solid black;\n",
       "    border-collapse: collapse;\n",
       "  }\n",
       "  th, td {\n",
       "    padding: 5px;\n",
       "  }\n",
       "  th {\n",
       "    text-align: left;\n",
       "  }\n",
       "</style><div class='table-result-container'><table class='table-result'><thead style='background-color: white'><tr><th>order_month</th><th>sum(price)</th></tr></thead><tbody><tr><td>1</td><td>2960.0</td></tr><tr><td>2</td><td>2730.0</td></tr><tr><td>3</td><td>910.0</td></tr><tr><td>5</td><td>2960.0</td></tr><tr><td>6</td><td>2960.0</td></tr><tr><td>7</td><td>910.0</td></tr><tr><td>11</td><td>910.0</td></tr></tbody></table></div>"
      ]
     },
     "metadata": {
      "application/vnd.databricks.v1+output": {
       "addedWidgets": {},
       "aggData": [],
       "aggError": "",
       "aggOverflow": false,
       "aggSchema": [],
       "aggSeriesLimitReached": false,
       "aggType": "",
       "arguments": {},
       "columnCustomDisplayInfos": {},
       "data": [
        [
         1,
         2960.0
        ],
        [
         2,
         2730.0
        ],
        [
         3,
         910.0
        ],
        [
         5,
         2960.0
        ],
        [
         6,
         2960.0
        ],
        [
         7,
         910.0
        ],
        [
         11,
         910.0
        ]
       ],
       "datasetInfos": [],
       "dbfsResultPath": null,
       "isJsonSchema": true,
       "metadata": {},
       "overflow": false,
       "plotOptions": {
        "customPlotOptions": {},
        "displayType": "table",
        "pivotAggregation": null,
        "pivotColumns": null,
        "xColumns": null,
        "yColumns": null
       },
       "removedWidgets": [],
       "schema": [
        {
         "metadata": "{}",
         "name": "order_month",
         "type": "\"integer\""
        },
        {
         "metadata": "{}",
         "name": "sum(price)",
         "type": "\"double\""
        }
       ],
       "type": "table"
      }
     },
     "output_type": "display_data"
    }
   ],
   "source": [
    "monthly_sales = (sales_df.join(menu_df,'product_id').groupBy('order_month').agg({'price':'sum'})\n",
    "                 .orderBy('order_month'))\n",
    "\n",
    "display(monthly_sales)"
   ]
  },
  {
   "cell_type": "code",
   "execution_count": 0,
   "metadata": {
    "application/vnd.databricks.v1+cell": {
     "cellMetadata": {
      "byteLimit": 2048000,
      "rowLimit": 10000
     },
     "inputWidgets": {},
     "nuid": "74dd2dcf-ceaf-4822-874c-cadf4b60bd00",
     "showTitle": true,
     "tableResultSettingsMap": {},
     "title": "- Total sales by each company."
    }
   },
   "outputs": [
    {
     "output_type": "display_data",
     "data": {
      "text/html": [
       "<style scoped>\n",
       "  .table-result-container {\n",
       "    max-height: 300px;\n",
       "    overflow: auto;\n",
       "  }\n",
       "  table, th, td {\n",
       "    border: 1px solid black;\n",
       "    border-collapse: collapse;\n",
       "  }\n",
       "  th, td {\n",
       "    padding: 5px;\n",
       "  }\n",
       "  th {\n",
       "    text-align: left;\n",
       "  }\n",
       "</style><div class='table-result-container'><table class='table-result'><thead style='background-color: white'><tr><th>location</th><th>sum(price)</th></tr></thead><tbody><tr><td>null</td><td>14340.0</td></tr></tbody></table></div>"
      ]
     },
     "metadata": {
      "application/vnd.databricks.v1+output": {
       "addedWidgets": {},
       "aggData": [],
       "aggError": "",
       "aggOverflow": false,
       "aggSchema": [],
       "aggSeriesLimitReached": false,
       "aggType": "",
       "arguments": {},
       "columnCustomDisplayInfos": {},
       "data": [
        [
         null,
         14340.0
        ]
       ],
       "datasetInfos": [],
       "dbfsResultPath": null,
       "isJsonSchema": true,
       "metadata": {},
       "overflow": false,
       "plotOptions": {
        "customPlotOptions": {},
        "displayType": "table",
        "pivotAggregation": null,
        "pivotColumns": null,
        "xColumns": null,
        "yColumns": null
       },
       "removedWidgets": [],
       "schema": [
        {
         "metadata": "{}",
         "name": "location",
         "type": "\"integer\""
        },
        {
         "metadata": "{}",
         "name": "sum(price)",
         "type": "\"double\""
        }
       ],
       "type": "table"
      }
     },
     "output_type": "display_data"
    }
   ],
   "source": [
    "total_amt = (sales_df.join(menu_df, 'product_id').groupBy('location').agg({'price':'sum'}))\n",
    "\n",
    "display(total_amt)"
   ]
  },
  {
   "cell_type": "code",
   "execution_count": 0,
   "metadata": {
    "application/vnd.databricks.v1+cell": {
     "cellMetadata": {},
     "inputWidgets": {},
     "nuid": "03a1b27d-042b-490a-9c61-4089df12d542",
     "showTitle": false,
     "tableResultSettingsMap": {},
     "title": ""
    }
   },
   "outputs": [],
   "source": []
  }
 ],
 "metadata": {
  "application/vnd.databricks.v1+notebook": {
   "computePreferences": null,
   "dashboards": [],
   "environmentMetadata": {
    "base_environment": "",
    "client": "1"
   },
   "language": "python",
   "notebookMetadata": {
    "pythonIndentUnit": 4
   },
   "notebookName": "pyspark_sales_analysis_projetcs",
   "widgets": {}
  }
 },
 "nbformat": 4,
 "nbformat_minor": 0
}
